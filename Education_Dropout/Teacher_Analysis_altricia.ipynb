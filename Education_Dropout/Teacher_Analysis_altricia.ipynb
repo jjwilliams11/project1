{
 "cells": [
  {
   "cell_type": "code",
   "execution_count": 1,
   "metadata": {},
   "outputs": [],
   "source": [
    "# Dependencies\n",
    "import pandas as pd\n",
    "import numpy as np\n",
    "import matplotlib.pyplot as plt\n",
    "import scipy.stats as sts\n",
    "import os\n",
    "import json\n",
    "import requests "
   ]
  },
  {
   "cell_type": "code",
   "execution_count": 2,
   "metadata": {},
   "outputs": [
    {
     "output_type": "error",
     "ename": "SyntaxError",
     "evalue": "invalid syntax (<ipython-input-2-a510defe1bc2>, line 1)",
     "traceback": [
      "\u001b[1;36m  File \u001b[1;32m\"<ipython-input-2-a510defe1bc2>\"\u001b[1;36m, line \u001b[1;32m1\u001b[0m\n\u001b[1;33m    This section will make API call and create dataframe with needed data from the Urban Institute of Education Portal accessing the Directory of Common Core of Data from the US Department of Education which is the primary database on public elementary and secondary education. Specifically pulling 2014 directory data for school districts in the state of Florida which based on the api documentation the state code is found under the fips search key at https://educationdata.urban.org/documentation/school-districts.html#overview\u001b[0m\n\u001b[1;37m         ^\u001b[0m\n\u001b[1;31mSyntaxError\u001b[0m\u001b[1;31m:\u001b[0m invalid syntax\n"
     ]
    }
   ],
   "source": [
    "This section will make API call and create dataframe with needed data from the Urban Institute of Education Portal accessing the Directory of Common Core of Data from the US Department of Education which is the primary database on public elementary and secondary education. Specifically pulling 2014 directory data for school districts in the state of Florida which based on the api documentation the state code is found under the fips search key at https://educationdata.urban.org/documentation/school-districts.html#overview"
   ]
  },
  {
   "cell_type": "code",
   "execution_count": null,
   "metadata": {},
   "outputs": [],
   "source": [
    "# Build query URL\n",
    "url = \"https://educationdata.urban.org/api/v1/school-districts/ccd/directory/\"\n",
    "year = \"2014/\"\n",
    "state_code = \"12\"\n",
    "\n",
    "query_url = f\"{url}{year}?fips={state_code}\"\n",
    "\n",
    "# Request data in json and store variable\n",
    "fl_ccd_directory_response = requests.get(query_url)\n",
    "fl_ccd_directory_data = fl_ccd_directory_response.json()\n",
    "\n",
    "# Establish the results from the request to loop through below\n",
    "results_directory = fl_ccd_directory_data['results']\n",
    "\n",
    "# Create Lists to store values for the columns\n",
    "district_name = []\n",
    "dir_nces_id = []\n",
    "state_id = []\n",
    "latitude = []\n",
    "longitude = []\n",
    "urban_locale = []\n",
    "agency_type = []\n",
    "total_schools = []\n",
    "total_students = []\n",
    "spec_ed_stud = []\n",
    "eng_lang_stud = []\n",
    "teachers_fte = []\n",
    "instru_aids_fte = []\n",
    "guidance_cons_fte = []\n",
    "school_staff_fte = []\n",
    "district_staff_fte = []\n",
    "staff_total_fte = []\n",
    "\n",
    "# Loop through results and store values in appropriate lists\n",
    "for result in results_directory:\n",
    "    district_name.append(result['lea_name'])\n",
    "    dir_nces_id.append(result['leaid'])\n",
    "    state_id.append(result['state_leaid'])\n",
    "    latitude.append(result['latitude'])\n",
    "    longitude.append(result['longitude'])\n",
    "    urban_locale.append(result['urban_centric_locale'])\n",
    "    agency_type.append(result['agency_type'])\n",
    "    total_schools.append(result['number_of_schools'])\n",
    "    total_students.append(result['enrollment'])\n",
    "    spec_ed_stud.append(result['spec_ed_students'])\n",
    "    eng_lang_stud.append(result['english_language_learners'])\n",
    "    teachers_fte.append(result['teachers_total_fte'])\n",
    "    instru_aids_fte.append(result['instructional_aides_fte'])\n",
    "    guidance_cons_fte.append(result['guidance_counselors_total_fte'])\n",
    "    school_staff_fte.append(result['school_staff_total_fte'])\n",
    "    district_staff_fte.append(result['lea_staff_total_fte'])\n",
    "    staff_total_fte.append(result['staff_total_fte'])\n",
    "    \n",
    "# Create dataframe from results\n",
    "fl_ccd_directory = pd.DataFrame({\"District Name\":district_name, \"NCES ID\":dir_nces_id, \"State ID\":state_id,                          \n",
    "                                 \"Degree of urbanization\":urban_locale, \"Agency Type\":agency_type,\n",
    "                                \"Total Schools\":total_schools, \"Total Students Enrolled\":total_students,\n",
    "                                \"Special Ed Students\":spec_ed_stud, \"English Language Students\":eng_lang_stud,\n",
    "                                \"Total FTE Teachers\":teachers_fte, \"Total FTE Instructional Aids\": instru_aids_fte,\n",
    "                                \"Total FTE Guidance Counselors\": guidance_cons_fte, \"Total FTE School Staff\":school_staff_fte,\n",
    "                                \"Total FTE District Staff\": district_staff_fte, \"Total FTE Staff\": staff_total_fte,\n",
    "                                 \"Latitude\":latitude, \"Longitude\":longitude})\n",
    "\n",
    "# Remove all districts that are not regular local school district\n",
    "clean_fl_ccd_directory = fl_ccd_directory.loc[fl_ccd_directory['Agency Type'] == 1]\n",
    "\n",
    "\n",
    "clean_fl_ccd_directory"
   ]
  },
  {
   "cell_type": "code",
   "execution_count": null,
   "metadata": {},
   "outputs": [],
   "source": [
    "# Create a list of district names that were not regular local schools to drop from other tables\n",
    "drop_agencies = fl_ccd_directory[fl_ccd_directory['Agency Type'] != 1]\n",
    "drop_ids = drop_agencies['District Name'].tolist()\n",
    "\n",
    "drop_ids"
   ]
  },
  {
   "cell_type": "code",
   "execution_count": null,
   "metadata": {},
   "outputs": [],
   "source": [
    "This section will make API call and create dataframe with needed data from the Urban Institute of Education Portal accessing the Directory of Common Core of Data from the US Department of Education which is the primary database on public elementary and secondary education. Specifically pulling 2014 financal data for school districts in the state of Florida. Use the same fips code for state above."
   ]
  },
  {
   "cell_type": "code",
   "execution_count": null,
   "metadata": {},
   "outputs": [],
   "source": [
    "# Build query URL\n",
    "url = \"https://educationdata.urban.org/api/v1/school-districts/ccd/finance/\"\n",
    "year = \"2014/\"\n",
    "state_code = \"12\"\n",
    "\n",
    "query_url = f\"{url}{year}?fips={state_code}\"\n",
    "\n",
    "# Request data in json and store variable\n",
    "fl_ccd_finance_response = requests.get(query_url)\n",
    "fl_ccd_finance_data = fl_ccd_finance_response.json()\n",
    "\n",
    "# Establish the results from the request to loop through below\n",
    "results_financial = fl_ccd_finance_data['results']\n",
    "\n",
    "# Create Lists to store values for the columns\n",
    "fin_nces_id = []\n",
    "total_rev = []\n",
    "fed_total_rev = []\n",
    "st_total_rev = []\n",
    "loc_total_rev = []\n",
    "loc_prop_tax_rev = []\n",
    "total_exp = []\n",
    "instruct_total = []\n",
    "intruct_staff_exp = []\n",
    "general_admin_exp = []\n",
    "school_admin_exp = []\n",
    "operation_plant_exp = []\n",
    "student_transport_exp = []\n",
    "\n",
    "# Loop through results and store values in appropriate lists\n",
    "for result in results_financial:\n",
    "    fin_nces_id.append(result['leaid'])\n",
    "    total_rev.append(result['rev_total'])\n",
    "    fed_total_rev.append(result['rev_fed_total'])\n",
    "    st_total_rev.append(result['rev_state_total'])\n",
    "    loc_total_rev.append(result['rev_local_total'])\n",
    "    loc_prop_tax_rev.append(result['rev_local_prop_tax'])\n",
    "    total_exp.append(result['exp_total'])\n",
    "    instruct_total.append(result['exp_current_instruction_total'])\n",
    "    intruct_staff_exp.append(result['exp_current_instruc_staff'])\n",
    "    general_admin_exp.append(result['exp_current_general_admin'])\n",
    "    school_admin_exp.append(result['exp_current_sch_admin'])\n",
    "    operation_plant_exp.append(result['exp_current_operation_plant'])\n",
    "    student_transport_exp.append(result['exp_current_student_transport'])\n",
    "    \n",
    "# Create dataframe from results\n",
    "fl_ccd_financial = pd.DataFrame({\"NCES ID\":fin_nces_id, \"Total Revenue\":total_rev, \"Total Federal Revenue\":fed_total_rev,                        \n",
    "                                 \"Total State Revenue\":st_total_rev, \"Total Local Revenue\":loc_total_rev,\n",
    "                                \"Local Revenue (Property Tax)\":loc_prop_tax_rev, \"Total Expense\":total_exp,\n",
    "                                 \"Instructional Total\":instruct_total, \"Total Expense for Instruction Staff\":intruct_staff_exp,\n",
    "                                \"Total Expense for General Admin\":general_admin_exp, \"Total Expense for School Admin\":school_admin_exp,\n",
    "                                \"Total Expense for Operations\":operation_plant_exp, \"Total Expense for Student Transportation\":student_transport_exp})\n",
    "\n",
    "# Remove all districts without financial data\n",
    "clean_fl_ccd_financial = fl_ccd_financial.loc[fl_ccd_financial['Total Revenue'] > 0]\n",
    "\n",
    "clean_fl_ccd_financial.head()"
   ]
  },
  {
   "cell_type": "code",
   "execution_count": null,
   "metadata": {},
   "outputs": [],
   "source": [
    "This section will make API call and create dataframe from the Urban Institute of Education Portal accessing The US Census Bureau's Small Area Income and Poverty Estimates. Specifically pulling 2014 estimated poverity data for school aged children fo school districts in the state of Florida. Use the same fips paramaters as above."
   ]
  },
  {
   "cell_type": "code",
   "execution_count": null,
   "metadata": {},
   "outputs": [],
   "source": [
    "# Build query URL\n",
    "url = \"https://educationdata.urban.org/api/v1/school-districts/saipe/\"\n",
    "year = \"2014/\"\n",
    "state_code = \"12\"\n",
    "\n",
    "query_url = f\"{url}{year}?fips={state_code}\"\n",
    "\n",
    "# Request data in json and store variable\n",
    "fl_saipe_poverty_response = requests.get(query_url)\n",
    "fl_saipe_poverty_data = fl_saipe_poverty_response.json()\n",
    "\n",
    "# Establish the results from the request to loop through below\n",
    "results_poverity = fl_saipe_poverty_data['results']\n",
    "\n",
    "# Create Lists to store values for the columns\n",
    "pov_nces_id = []\n",
    "est_pop_total = []\n",
    "est_pop_5to17 = []\n",
    "est_pop_5to17_perc = []\n",
    "est_pop_5to17_poverity = []\n",
    "est_pop_5to17_poverity_perc = []\n",
    "\n",
    "\n",
    "# Loop through results and store values in appropriate lists\n",
    "for result in results_poverity:\n",
    "    pov_nces_id.append(result['leaid'])\n",
    "    est_pop_total.append(result['est_population_total'])\n",
    "    est_pop_5to17.append(result['est_population_5_17'])\n",
    "    est_pop_5to17_perc.append(result['est_population_5_17_pct'])\n",
    "    est_pop_5to17_poverity.append(result['est_population_5_17_poverty'])\n",
    "    est_pop_5to17_poverity_perc.append(result['est_population_5_17_poverty_pct'])\n",
    "\n",
    "    \n",
    "# Create dataframe from results\n",
    "fl_saipe_poverity = pd.DataFrame({\"NCES ID\":pov_nces_id, \"Estimated Total Population\":est_pop_total, \n",
    "                                 \"Estimated Total Population Ages 5–17\":est_pop_5to17,                        \n",
    "                                 \"Share of Population that are school ages 5–17\":est_pop_5to17_perc, \n",
    "                                 \"Estimated Population Ages 5–17 in poverity\":est_pop_5to17_poverity,\n",
    "                                \"Share of School-Age Population (5–17) in poverity\":est_pop_5to17_poverity_perc})\n",
    "\n",
    "fl_saipe_poverity.head()"
   ]
  },
  {
   "cell_type": "code",
   "execution_count": null,
   "metadata": {},
   "outputs": [],
   "source": [
    "# Combined all above API calls in to one dataframe to match with District Name\n",
    "\n",
    "dem_pov_nces_combined = pd.merge(clean_fl_ccd_directory,fl_saipe_poverity, on=\"NCES ID\")\n",
    "fl_nces_combined = pd.merge(dem_pov_nces_combined,clean_fl_ccd_financial, on=\"NCES ID\")\n",
    "fl_nces_combined.head()"
   ]
  },
  {
   "cell_type": "code",
   "execution_count": null,
   "metadata": {},
   "outputs": [],
   "source": [
    "This section will read in the excel files from the Florida Department of Education for 2014 and clean the dataframes with only the needed information."
   ]
  },
  {
   "cell_type": "code",
   "execution_count": null,
   "metadata": {},
   "outputs": [],
   "source": [
    "# Read in Florida District Dropout Data\n",
    "fl_2014_dropout_path = \"fldoe_data/2014_FL_dropout_rates.xls\"\n",
    "fl_2014_dropout_data = pd.read_excel(os.path.join(fl_2014_dropout_path),header=4)\n",
    "\n",
    "# Remove all district names that were dropped due to not local school district and state total\n",
    "clean_fl_2014_dropout=fl_2014_dropout_data[~fl_2014_dropout_data[\"District Name\"].isin(drop_ids)]\n",
    "clean_fl_2014_dropout = clean_fl_2014_dropout.loc[clean_fl_2014_dropout['District Name'] != \"FLORIDA\"]\n",
    "\n",
    "clean_fl_2014_dropout.head()"
   ]
  },
  {
   "cell_type": "code",
   "execution_count": null,
   "metadata": {},
   "outputs": [],
   "source": []
  }
 ],
 "metadata": {
  "kernelspec": {
   "display_name": "Python 3",
   "language": "python",
   "name": "python3"
  },
  "language_info": {
   "codemirror_mode": {
    "name": "ipython",
    "version": 3
   },
   "file_extension": ".py",
   "mimetype": "text/x-python",
   "name": "python",
   "nbconvert_exporter": "python",
   "pygments_lexer": "ipython3",
   "version": "3.8.5-final"
  }
 },
 "nbformat": 4,
 "nbformat_minor": 4
}